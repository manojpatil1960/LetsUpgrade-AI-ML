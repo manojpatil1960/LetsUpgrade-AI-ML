{
 "cells": [
  {
   "cell_type": "code",
   "execution_count": null,
   "metadata": {},
   "outputs": [],
   "source": []
  },
  {
   "cell_type": "markdown",
   "metadata": {},
   "source": [
    "# Program to Subtract two complex numbers\n"
   ]
  },
  {
   "cell_type": "code",
   "execution_count": 3,
   "metadata": {},
   "outputs": [
    {
     "name": "stdout",
     "output_type": "stream",
     "text": [
      "Subtraction of Two Complex number is:- (1+1j)\n"
     ]
    }
   ],
   "source": [
    "a=5+6j\n",
    "b=4+5J\n",
    "c=a-b\n",
    "print(\"Subtraction of Two Complex number is:-\",c)"
   ]
  },
  {
   "cell_type": "markdown",
   "metadata": {},
   "source": [
    "# Program to find fourth root of number"
   ]
  },
  {
   "cell_type": "code",
   "execution_count": null,
   "metadata": {},
   "outputs": [],
   "source": []
  },
  {
   "cell_type": "code",
   "execution_count": 12,
   "metadata": {},
   "outputs": [
    {
     "name": "stdout",
     "output_type": "stream",
     "text": [
      "Fourth root of a Number is:- 3.0\n"
     ]
    }
   ],
   "source": [
    "a=81\n",
    "b=a ** (1/4)\n",
    "print(\"Fourth root of a Number is:-\",b)"
   ]
  },
  {
   "cell_type": "markdown",
   "metadata": {},
   "source": [
    "# Swapping of two number using third number"
   ]
  },
  {
   "cell_type": "code",
   "execution_count": 15,
   "metadata": {},
   "outputs": [
    {
     "name": "stdout",
     "output_type": "stream",
     "text": [
      "After Swapping Value of A is:- 20\n",
      "After Swapping Value of B is:- 10\n"
     ]
    }
   ],
   "source": [
    "a=10\n",
    "b=20\n",
    "c=a\n",
    "a=b\n",
    "b=c\n",
    "print(\"After Swapping Value of A is:-\",a)\n",
    "print(\"After Swapping Value of B is:-\",b)\n"
   ]
  },
  {
   "cell_type": "markdown",
   "metadata": {},
   "source": [
    "# Swapping of two number without using third number"
   ]
  },
  {
   "cell_type": "code",
   "execution_count": 23,
   "metadata": {},
   "outputs": [
    {
     "name": "stdout",
     "output_type": "stream",
     "text": [
      "Value of A after swapping:- 20 ----- Value of B after swapping :- 10\n"
     ]
    }
   ],
   "source": [
    "a=10\n",
    "b=20\n",
    "a=a+b\n",
    "b=a-b\n",
    "a=a-b\n",
    "print(\"Value of A after swapping:-\",a,\"-----\",\"Value of B after swapping :-\",b)"
   ]
  },
  {
   "cell_type": "markdown",
   "metadata": {},
   "source": [
    "# Convert Fahrenheit to Kelvin"
   ]
  },
  {
   "cell_type": "code",
   "execution_count": 31,
   "metadata": {},
   "outputs": [
    {
     "name": "stdout",
     "output_type": "stream",
     "text": [
      "Conversion of Fahrenheit to Kelvin is:- 310.15\n",
      "Conversion of Fahrenheit to Celcius is:- 37.0\n"
     ]
    }
   ],
   "source": [
    "f=98.6\n",
    "k=(((f-32)*5)/9)+273.15\n",
    "print(\"Conversion of Fahrenheit to Kelvin is:-\" , k)\n",
    "\n",
    "c=((f-32)*5)/9\n",
    "print(\"Conversion of Fahrenheit to Celcius is:-\" ,c)"
   ]
  },
  {
   "cell_type": "markdown",
   "metadata": {},
   "source": [
    "# Convert Fahrenheit to Kelvin"
   ]
  },
  {
   "cell_type": "code",
   "execution_count": 37,
   "metadata": {},
   "outputs": [
    {
     "data": {
      "text/plain": [
       "int"
      ]
     },
     "execution_count": 37,
     "metadata": {},
     "output_type": "execute_result"
    }
   ],
   "source": [
    "a=10\n",
    "type(a)"
   ]
  },
  {
   "cell_type": "code",
   "execution_count": 38,
   "metadata": {},
   "outputs": [
    {
     "data": {
      "text/plain": [
       "float"
      ]
     },
     "execution_count": 38,
     "metadata": {},
     "output_type": "execute_result"
    }
   ],
   "source": [
    "b=10.2\n",
    "type(b)"
   ]
  },
  {
   "cell_type": "code",
   "execution_count": 39,
   "metadata": {},
   "outputs": [
    {
     "data": {
      "text/plain": [
       "str"
      ]
     },
     "execution_count": 39,
     "metadata": {},
     "output_type": "execute_result"
    }
   ],
   "source": [
    "c='T'\n",
    "type(c)"
   ]
  },
  {
   "cell_type": "code",
   "execution_count": 40,
   "metadata": {},
   "outputs": [
    {
     "data": {
      "text/plain": [
       "str"
      ]
     },
     "execution_count": 40,
     "metadata": {},
     "output_type": "execute_result"
    }
   ],
   "source": [
    "d=\"Don\"\n",
    "type(d)"
   ]
  },
  {
   "cell_type": "code",
   "execution_count": 41,
   "metadata": {},
   "outputs": [
    {
     "data": {
      "text/plain": [
       "bool"
      ]
     },
     "execution_count": 41,
     "metadata": {},
     "output_type": "execute_result"
    }
   ],
   "source": [
    "f=True\n",
    "type(f)"
   ]
  },
  {
   "cell_type": "code",
   "execution_count": 42,
   "metadata": {},
   "outputs": [
    {
     "data": {
      "text/plain": [
       "complex"
      ]
     },
     "execution_count": 42,
     "metadata": {},
     "output_type": "execute_result"
    }
   ],
   "source": [
    "a=2+4j\n",
    "type(a)"
   ]
  },
  {
   "cell_type": "markdown",
   "metadata": {},
   "source": [
    "# Steps to Create Github profile"
   ]
  },
  {
   "cell_type": "markdown",
   "metadata": {},
   "source": [
    "# Steps \n",
    "\n",
    "## 1.open Github site in browser\n",
    "## 2.signup to github\n",
    "## 3.After Signin create Repository with name LetsUpgrade AI/ML \n",
    "## 4.upload files in Repository daywise manner\n",
    "## 5.Copy the URL of the Folder and paste in the Assignment Submission Form\n",
    "## 6.Fill correct details in the Assignment Submission Form"
   ]
  },
  {
   "cell_type": "code",
   "execution_count": null,
   "metadata": {},
   "outputs": [],
   "source": []
  }
 ],
 "metadata": {
  "kernelspec": {
   "display_name": "Python 3",
   "language": "python",
   "name": "python3"
  },
  "language_info": {
   "codemirror_mode": {
    "name": "ipython",
    "version": 3
   },
   "file_extension": ".py",
   "mimetype": "text/x-python",
   "name": "python",
   "nbconvert_exporter": "python",
   "pygments_lexer": "ipython3",
   "version": "3.7.0"
  }
 },
 "nbformat": 4,
 "nbformat_minor": 2
}
