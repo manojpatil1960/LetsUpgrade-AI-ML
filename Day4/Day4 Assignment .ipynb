{
 "cells": [
  {
   "cell_type": "markdown",
   "metadata": {},
   "source": [
    "# Question 1"
   ]
  },
  {
   "cell_type": "markdown",
   "metadata": {},
   "source": [
    "# Addition two Complex Number "
   ]
  },
  {
   "cell_type": "code",
   "execution_count": 27,
   "metadata": {},
   "outputs": [
    {
     "name": "stdout",
     "output_type": "stream",
     "text": [
      "(6+14j)\n"
     ]
    }
   ],
   "source": [
    "a=2+6j\n",
    "b=4+8j\n",
    "c=a+b\n",
    "print(c)\n"
   ]
  },
  {
   "cell_type": "markdown",
   "metadata": {},
   "source": [
    "# Subtraction of two Complex Number"
   ]
  },
  {
   "cell_type": "code",
   "execution_count": 4,
   "metadata": {},
   "outputs": [
    {
     "name": "stdout",
     "output_type": "stream",
     "text": [
      "(-2+9j)\n"
     ]
    }
   ],
   "source": [
    "a=2+3j\n",
    "b=4-6j\n",
    "c=a-b\n",
    "print(c)"
   ]
  },
  {
   "cell_type": "markdown",
   "metadata": {},
   "source": [
    "# Multiplication of two complex number"
   ]
  },
  {
   "cell_type": "code",
   "execution_count": 5,
   "metadata": {},
   "outputs": [
    {
     "name": "stdout",
     "output_type": "stream",
     "text": [
      "(-14+18j)\n"
     ]
    }
   ],
   "source": [
    "a=2+3j\n",
    "b=2+6j\n",
    "c=a*b\n",
    "print(c)"
   ]
  },
  {
   "cell_type": "markdown",
   "metadata": {},
   "source": [
    "# Division of two complex Number( it will use conjugate of number)"
   ]
  },
  {
   "cell_type": "code",
   "execution_count": 37,
   "metadata": {},
   "outputs": [
    {
     "name": "stdout",
     "output_type": "stream",
     "text": [
      "(0.2850678733031674-0.39819004524886875j)\n"
     ]
    }
   ],
   "source": [
    "a=7+2j\n",
    "b=5+14j\n",
    "c=a/b\n",
    "print(c)"
   ]
  },
  {
   "cell_type": "markdown",
   "metadata": {},
   "source": [
    "# Floor Division and Modulo operation not possible in 3.X"
   ]
  },
  {
   "cell_type": "markdown",
   "metadata": {},
   "source": [
    "# Question 2"
   ]
  },
  {
   "cell_type": "markdown",
   "metadata": {},
   "source": [
    "# Range function\n",
    "## It is use to print sequence of numbers.\n",
    "## It start printing number from Zero(0) to n-1\n",
    "## we can pass single parameter to range function which will genrate number from 0 to n-1\n",
    "## we can pass parameter as start and end number to range function\n",
    "## we can also pass parameter as start number,end number,step size to range function which will print  next number depending upon step size.\n"
   ]
  },
  {
   "cell_type": "markdown",
   "metadata": {},
   "source": [
    "# Example of Range Functions"
   ]
  },
  {
   "cell_type": "code",
   "execution_count": 7,
   "metadata": {},
   "outputs": [
    {
     "name": "stdout",
     "output_type": "stream",
     "text": [
      "0\n",
      "1\n",
      "2\n",
      "3\n",
      "4\n",
      "5\n"
     ]
    }
   ],
   "source": [
    "for i in range(6):\n",
    "    print(i)"
   ]
  },
  {
   "cell_type": "raw",
   "metadata": {},
   "source": [
    "for i in range (1,7):\n",
    "    print(i)\n"
   ]
  },
  {
   "cell_type": "code",
   "execution_count": 9,
   "metadata": {},
   "outputs": [
    {
     "name": "stdout",
     "output_type": "stream",
     "text": [
      "1\n",
      "3\n",
      "5\n",
      "7\n",
      "9\n"
     ]
    }
   ],
   "source": [
    "for i in range(1,10,2):\n",
    "    print(i)"
   ]
  },
  {
   "cell_type": "markdown",
   "metadata": {},
   "source": [
    "# Question 3"
   ]
  },
  {
   "cell_type": "code",
   "execution_count": 26,
   "metadata": {},
   "outputs": [
    {
     "name": "stdout",
     "output_type": "stream",
     "text": [
      "Multiplication of  two number is :- 120\n"
     ]
    }
   ],
   "source": [
    "#You can assign other numbers to varialbes a& b \n",
    "a=60\n",
    "b=2\n",
    "c=a-5\n",
    "if c>25:\n",
    "    print(\"Multiplication of  two number is :-\",a*b)\n",
    "else:\n",
    "    print(\"Division of Two number is :- \",a/b)\n",
    "    "
   ]
  },
  {
   "cell_type": "markdown",
   "metadata": {},
   "source": [
    "# Question 4 "
   ]
  },
  {
   "cell_type": "code",
   "execution_count": 25,
   "metadata": {},
   "outputs": [
    {
     "name": "stdout",
     "output_type": "stream",
     "text": [
      "Result is:- 14\n",
      "Result is:- 62\n",
      "Result is:- 98\n",
      "Result is:- 142\n"
     ]
    }
   ],
   "source": [
    "lst=[4,5,8,10,11,12]\n",
    "for i in lst:\n",
    "    if(i%2==0):\n",
    "        print(\"Result is:-\",(i**2)-2)"
   ]
  },
  {
   "cell_type": "markdown",
   "metadata": {},
   "source": [
    "# Question 5 "
   ]
  },
  {
   "cell_type": "code",
   "execution_count": 24,
   "metadata": {},
   "outputs": [
    {
     "name": "stdout",
     "output_type": "stream",
     "text": [
      "Elements in List whose result of division is greate than 7 are:- 107\n",
      "Elements in List whose result of division is greate than 7 are:- 97\n",
      "Elements in List whose result of division is greate than 7 are:- 87\n"
     ]
    }
   ],
   "source": [
    "lst=[4,107,97,10,11,87]\n",
    "for i in lst:\n",
    "    if(i/2>=7):\n",
    "        print(\"Elements in List whose result of division is greate than 7 are:-\" ,i)   "
   ]
  },
  {
   "cell_type": "code",
   "execution_count": null,
   "metadata": {},
   "outputs": [],
   "source": []
  }
 ],
 "metadata": {
  "kernelspec": {
   "display_name": "Python 3",
   "language": "python",
   "name": "python3"
  },
  "language_info": {
   "codemirror_mode": {
    "name": "ipython",
    "version": 3
   },
   "file_extension": ".py",
   "mimetype": "text/x-python",
   "name": "python",
   "nbconvert_exporter": "python",
   "pygments_lexer": "ipython3",
   "version": "3.7.0"
  }
 },
 "nbformat": 4,
 "nbformat_minor": 2
}
