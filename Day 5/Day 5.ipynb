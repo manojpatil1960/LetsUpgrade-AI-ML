{
 "cells": [
  {
   "cell_type": "markdown",
   "metadata": {},
   "source": [
    "# Question 1 "
   ]
  },
  {
   "cell_type": "markdown",
   "metadata": {},
   "source": [
    "## Write a Python program to find the first 20 non-even prime natural numbers."
   ]
  },
  {
   "cell_type": "code",
   "execution_count": 1,
   "metadata": {},
   "outputs": [
    {
     "name": "stdout",
     "output_type": "stream",
     "text": [
      "Enter Starting Number1\n",
      "Enter ending Number100\n",
      "Printing first 20 Prime\n",
      "3 5 7 11 13 17 19 23 29 31 37 41 43 47 53 59 61 67 71 73 "
     ]
    }
   ],
   "source": [
    "sno=int(input(\"Enter Starting Number\"))\n",
    "eno=int(input(\"Enter ending Number\"))\n",
    "i, j, flag ,count= 0, 0, 0,0;\n",
    "  \n",
    "print(\"Printing first 20 Prime\"); \n",
    "  \n",
    "for i in range(sno, eno + 1, 2): \n",
    "    if (i == 1 or i == 0): \n",
    "        continue\n",
    "    flag = 1\n",
    "    for j in range(2, ((i // 2) + 1), 1): \n",
    "        if (i % j == 0): \n",
    "            flag = 0\n",
    "            break\n",
    "  \n",
    "    if (flag == 1): \n",
    "        print(i, end = \" \")\n",
    "        count=count+1;\n",
    "        if count==20:\n",
    "            break;"
   ]
  },
  {
   "cell_type": "markdown",
   "metadata": {},
   "source": [
    "# Question 2 "
   ]
  },
  {
   "cell_type": "markdown",
   "metadata": {},
   "source": [
    "# Write a Python program to implement 15 functions of string."
   ]
  },
  {
   "cell_type": "code",
   "execution_count": 38,
   "metadata": {},
   "outputs": [
    {
     "name": "stdout",
     "output_type": "stream",
     "text": [
      "Letsupgrade\n",
      "letsupgrade\n",
      "2\n",
      "26\n",
      "8\n",
      "False\n",
      "i love, fruits very, very much\n",
      "I like, fruits very, very much\n",
      "I LOVE, FRUITS VERY, VERY MUCH\n",
      "*********LetsUpgrade**********\n",
      "I Love, Fruits Very, Very Much\n",
      "False\n",
      "****,,,,,****Hello.\n",
      "Hello.\n",
      "['I', 'love,', 'fruits', 'very,', 'very', 'much']\n",
      "True\n"
     ]
    }
   ],
   "source": [
    "txt=\"LetsUpgrade\"\n",
    "print(txt.capitalize())\n",
    "print(txt.casefold())\n",
    "txt1=\"I love, fruits very, very much\"\n",
    "print(txt1.count(\"very\"))\n",
    "print(txt1.find(\"much\"))\n",
    "print(txt1.index(\"f\"))\n",
    "print(txt1.isalpha())\n",
    "print(txt1.lower())\n",
    "print(txt1.replace(\"love\",\"like\"))\n",
    "print(txt1.upper())\n",
    "print(txt.center(30,\"*\"))\n",
    "print(txt1.title())\n",
    "print(txt1.isdigit())\n",
    "txt2=\"****,,,,,****Hello.\"\n",
    "print(txt2)\n",
    "print(txt2.strip(\"*,\"))\n",
    "print(txt1.split())\n",
    "print(txt2.endswith(\".\"))"
   ]
  },
  {
   "cell_type": "markdown",
   "metadata": {},
   "source": [
    "# Question 3"
   ]
  },
  {
   "cell_type": "markdown",
   "metadata": {},
   "source": [
    "# Write a Python program to check if the given string is a Palindrome or Anagram or None of them.Display the message accordingly to the user.\n"
   ]
  },
  {
   "cell_type": "code",
   "execution_count": 2,
   "metadata": {},
   "outputs": [
    {
     "name": "stdout",
     "output_type": "stream",
     "text": [
      "enter string:-bad\n",
      "string is anagram\n"
     ]
    }
   ],
   "source": [
    "str=input(\"enter string:-\")\n",
    "\n",
    "str1=str[::-1]\n",
    "str2=sorted(str)\n",
    "str3=sorted(str1)\n",
    "\n",
    "if str==str1:\n",
    "    print(\"string is palindrome\")\n",
    "elif str2==str3:\n",
    "    print(\"string is anagram\");\n",
    "else:\n",
    "    print(\"None of them\")\n",
    "\n"
   ]
  },
  {
   "cell_type": "markdown",
   "metadata": {},
   "source": [
    "# Qestion 4 "
   ]
  },
  {
   "cell_type": "markdown",
   "metadata": {},
   "source": [
    "# Write a Python's user defined function that removes all the additional characters from the string and converts it finally to lower case using built-in lower(). eg: If the string is \"Dr. Darshan Ingle @AI-ML Trainer\", then the output be \"drdarshaningleaimltrainer\"."
   ]
  },
  {
   "cell_type": "code",
   "execution_count": 19,
   "metadata": {},
   "outputs": [
    {
     "name": "stdout",
     "output_type": "stream",
     "text": [
      "Final String  drdaprirshaningleaimltrainer\n",
      "enter stringDr. Daprirshan Ingle @AI-ML Trainer\n"
     ]
    }
   ],
   "source": [
    "def removal(string):\n",
    "    symbols = [',',' ','@','-','.'] \n",
    "    for i in symbols : \n",
    "        string = string.replace(i, '') \n",
    "print(\"Final String \",string.lower())\n",
    "\n",
    "s=input(\"enter string\")\n",
    "removal(s)\n",
    "\n",
    "\n",
    "    "
   ]
  },
  {
   "cell_type": "code",
   "execution_count": null,
   "metadata": {},
   "outputs": [],
   "source": []
  }
 ],
 "metadata": {
  "kernelspec": {
   "display_name": "Python 3",
   "language": "python",
   "name": "python3"
  },
  "language_info": {
   "codemirror_mode": {
    "name": "ipython",
    "version": 3
   },
   "file_extension": ".py",
   "mimetype": "text/x-python",
   "name": "python",
   "nbconvert_exporter": "python",
   "pygments_lexer": "ipython3",
   "version": "3.7.0"
  }
 },
 "nbformat": 4,
 "nbformat_minor": 2
}
